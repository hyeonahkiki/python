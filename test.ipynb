{
 "cells": [
  {
   "cell_type": "code",
   "execution_count": 4,
   "metadata": {},
   "outputs": [],
   "source": [
    "# 1. 하루데이터 가져오기!\n",
    "import requests\n",
    "\n",
    "url = 'http://www.kobis.or.kr/kobisopenapi/webservice/rest/boxoffice/searchWeeklyBoxOfficeList.json'\n",
    "key = '1ecb949bfcb4945245868b107581120a'\n",
    "movie_url = f'{url}?key={key}&targetDt=20190713&weekGb=0'\n",
    "\n",
    "res = requests.get(movie_url).json()"
   ]
  },
  {
   "cell_type": "code",
   "execution_count": 15,
   "metadata": {},
   "outputs": [
    {
     "name": "stdout",
     "output_type": "stream",
     "text": [
      "[{'rnum': '1', 'rank': '1', 'rankInten': '0', 'rankOldAndNew': 'OLD', 'movieCd': '20196309', 'movieNm': '스파이더맨: 파 프롬 홈', 'openDt': '2019-07-02', 'salesAmt': '18704459230', 'salesShare': '50.6', 'salesInten': '-20291831880', 'salesChange': '-52.0', 'salesAcc': '57709310340', 'audiCnt': '2163519', 'audiInten': '-2357242', 'audiChange': '-52.1', 'audiAcc': '6685136', 'scrnCnt': '1900', 'showCnt': '61772'}, {'rnum': '2', 'rank': '2', 'rankInten': '0', 'rankOldAndNew': 'OLD', 'movieCd': '20183867', 'movieNm': '알라딘', 'openDt': '2019-05-23', 'salesAmt': '8048673260', 'salesShare': '21.8', 'salesInten': '-404620', 'salesChange': '0.0', 'salesAcc': '86703804479', 'audiCnt': '938600', 'audiInten': '-12275', 'audiChange': '-1.3', 'audiAcc': '10161231', 'scrnCnt': '975', 'showCnt': '20260'}, {'rnum': '3', 'rank': '3', 'rankInten': '0', 'rankOldAndNew': 'OLD', 'movieCd': '20184047', 'movieNm': '토이 스토리 4', 'openDt': '2019-06-20', 'salesAmt': '3062666940', 'salesShare': '8.3', 'salesInten': '-1341556620', 'salesChange': '-30.5', 'salesAcc': '26720315850', 'audiCnt': '367361', 'audiInten': '-165507', 'audiChange': '-31.1', 'audiAcc': '3151060', 'scrnCnt': '784', 'showCnt': '11025'}, {'rnum': '4', 'rank': '4', 'rankInten': '18', 'rankOldAndNew': 'OLD', 'movieCd': '20185353', 'movieNm': '기방도령', 'openDt': '2019-07-10', 'salesAmt': '1790462140', 'salesShare': '4.8', 'salesInten': '1767296140', 'salesChange': '7628.8', 'salesAcc': '1816098140', 'audiCnt': '217361', 'audiInten': '214787', 'audiChange': '8344.5', 'audiAcc': '220182', 'scrnCnt': '625', 'showCnt': '10844'}, {'rnum': '5', 'rank': '5', 'rankInten': '-1', 'rankOldAndNew': 'OLD', 'movieCd': '20183782', 'movieNm': '기생충', 'openDt': '2019-05-30', 'salesAmt': '1097073240', 'salesShare': '3.0', 'salesInten': '-559773060', 'salesChange': '-33.8', 'salesAcc': '84601476725', 'audiCnt': '145529', 'audiInten': '-52264', 'audiChange': '-26.4', 'audiAcc': '9919835', 'scrnCnt': '488', 'showCnt': '5305'}, {'rnum': '6', 'rank': '6', 'rankInten': '55', 'rankOldAndNew': 'OLD', 'movieCd': '20185986', 'movieNm': '진범', 'openDt': '2019-07-10', 'salesAmt': '913786600', 'salesShare': '2.5', 'salesInten': '911140600', 'salesChange': '34434.6', 'salesAcc': '922196600', 'audiCnt': '105676', 'audiInten': '105382', 'audiChange': '35844.2', 'audiAcc': '106756', 'scrnCnt': '224', 'showCnt': '4230'}, {'rnum': '7', 'rank': '7', 'rankInten': '20', 'rankOldAndNew': 'OLD', 'movieCd': '20191601', 'movieNm': '극장판 엉덩이 탐정: 화려한 사건 수첩', 'openDt': '2019-07-11', 'salesAmt': '801143520', 'salesShare': '2.2', 'salesInten': '790424520', 'salesChange': '7374.1', 'salesAcc': '811862520', 'audiCnt': '100054', 'audiInten': '98863', 'audiChange': '8300.8', 'audiAcc': '101245', 'scrnCnt': '561', 'showCnt': '3049'}, {'rnum': '8', 'rank': '8', 'rankInten': '-2', 'rankOldAndNew': 'OLD', 'movieCd': '20199951', 'movieNm': '애나벨 집으로', 'openDt': '2019-06-26', 'salesAmt': '495955050', 'salesShare': '1.3', 'salesInten': '-378757240', 'salesChange': '-43.3', 'salesAcc': '3809833030', 'audiCnt': '60543', 'audiInten': '-46623', 'audiChange': '-43.5', 'audiAcc': '459037', 'scrnCnt': '262', 'showCnt': '2182'}, {'rnum': '9', 'rank': '9', 'rankInten': '-4', 'rankOldAndNew': 'OLD', 'movieCd': '20196655', 'movieNm': '존 윅 3: 파라벨룸', 'openDt': '2019-06-26', 'salesAmt': '508652710', 'salesShare': '1.4', 'salesInten': '-999850840', 'salesChange': '-66.3', 'salesAcc': '7802546702', 'audiCnt': '59459', 'audiInten': '-118348', 'audiChange': '-66.6', 'audiAcc': '913066', 'scrnCnt': '495', 'showCnt': '3404'}, {'rnum': '10', 'rank': '10', 'rankInten': '37', 'rankOldAndNew': 'OLD', 'movieCd': '20192151', 'movieNm': '미드소마', 'openDt': '2019-07-11', 'salesAmt': '422374980', 'salesShare': '1.1', 'salesInten': '417380480', 'salesChange': '8356.8', 'salesAcc': '427369480', 'audiCnt': '45182', 'audiInten': '44657', 'audiChange': '8506.1', 'audiAcc': '45707', 'scrnCnt': '388', 'showCnt': '2697'}]\n"
     ]
    }
   ],
   "source": [
    "# 2. 구조 확인하기\n",
    "print(res['boxOfficeResult']['weeklyBoxOfficeList'])"
   ]
  },
  {
   "cell_type": "code",
   "execution_count": 17,
   "metadata": {},
   "outputs": [
    {
     "name": "stdout",
     "output_type": "stream",
     "text": [
      "20196309 스파이더맨: 파 프롬 홈 6685136\n",
      "20183867 알라딘 10161231\n",
      "20184047 토이 스토리 4 3151060\n",
      "20185353 기방도령 220182\n",
      "20183782 기생충 9919835\n",
      "20185986 진범 106756\n",
      "20191601 극장판 엉덩이 탐정: 화려한 사건 수첩 101245\n",
      "20199951 애나벨 집으로 459037\n",
      "20196655 존 윅 3: 파라벨룸 913066\n",
      "20192151 미드소마 45707\n"
     ]
    }
   ],
   "source": [
    "# 3. 내가 원하는 데이터 뽑아오기\n",
    "for i in range(10):\n",
    "    movieCd = res['boxOfficeResult']['weeklyBoxOfficeList'][i]['movieCd']\n",
    "    movieNm = res['boxOfficeResult']['weeklyBoxOfficeList'][i]['movieNm']\n",
    "    audiAcc = res['boxOfficeResult']['weeklyBoxOfficeList'][i]['audiAcc']\n",
    "    print(movieCd, movieNm, audiAcc)"
   ]
  },
  {
   "cell_type": "code",
   "execution_count": 18,
   "metadata": {},
   "outputs": [
    {
     "name": "stdout",
     "output_type": "stream",
     "text": [
      "{'20196309': {'movieCd': '20196309', 'movieNm': '스파이더맨: 파 프롬 홈', 'audiAcc': '6685136'}, '20183867': {'movieCd': '20183867', 'movieNm': '알라딘', 'audiAcc': '10161231'}, '20184047': {'movieCd': '20184047', 'movieNm': '토이 스토리 4', 'audiAcc': '3151060'}, '20185353': {'movieCd': '20185353', 'movieNm': '기방도령', 'audiAcc': '220182'}, '20183782': {'movieCd': '20183782', 'movieNm': '기생충', 'audiAcc': '9919835'}, '20185986': {'movieCd': '20185986', 'movieNm': '진범', 'audiAcc': '106756'}, '20191601': {'movieCd': '20191601', 'movieNm': '극장판 엉덩이 탐정: 화려한 사건 수첩', 'audiAcc': '101245'}, '20199951': {'movieCd': '20199951', 'movieNm': '애나벨 집으로', 'audiAcc': '459037'}, '20196655': {'movieCd': '20196655', 'movieNm': '존 윅 3: 파라벨룸', 'audiAcc': '913066'}, '20192151': {'movieCd': '20192151', 'movieNm': '미드소마', 'audiAcc': '45707'}}\n"
     ]
    }
   ],
   "source": [
    "# 4. 딕셔너리로 만들기\n",
    "movie_dict = {}\n",
    "box_office_list = res['boxOfficeResult']['weeklyBoxOfficeList']\n",
    "for movie in box_office_list:\n",
    "    movie_dict[movie['movieCd']] = {\n",
    "        'movieCd': movie['movieCd'],\n",
    "        'movieNm': movie['movieNm'],\n",
    "        'audiAcc': movie['audiAcc']\n",
    "    }\n",
    "print(movie_dict) "
   ]
  },
  {
   "cell_type": "code",
   "execution_count": 24,
   "metadata": {},
   "outputs": [
    {
     "name": "stdout",
     "output_type": "stream",
     "text": [
      "{'20186202': {'movieCd': '20186202', 'movieNm': '신과함께-인과 연', 'audiAcc': '12128608'}, '20181181': {'movieCd': '20181181', 'movieNm': '미션 임파서블: 폴아웃', 'audiAcc': '6567099'}, '20183361': {'movieCd': '20183361', 'movieNm': '인크레더블 2', 'audiAcc': '2998015'}, '20186501': {'movieCd': '20186501', 'movieNm': '극장판 헬로카봇 : 백악기 시대', 'audiAcc': '854230'}, '20185242': {'movieCd': '20185242', 'movieNm': '신비아파트: 금빛 도깨비와 비밀의 동굴', 'audiAcc': '667879'}, '20170942': {'movieCd': '20170942', 'movieNm': '인랑', 'audiAcc': '891308'}, '20181942': {'movieCd': '20181942', 'movieNm': '맘마미아!2', 'audiAcc': '2159125'}, '20186121': {'movieCd': '20186121', 'movieNm': '어느 가족', 'audiAcc': '123887'}, '20180522': {'movieCd': '20180522', 'movieNm': '앤트맨과 와스프', 'audiAcc': '5444801'}, '20185341': {'movieCd': '20185341', 'movieNm': '마녀', 'audiAcc': '3188405'}, '20179101': {'movieCd': '20179101', 'movieNm': '공작', 'audiAcc': '4879586'}, '20184802': {'movieCd': '20184802', 'movieNm': '몬스터 호텔 3', 'audiAcc': '1023630'}, '20187427': {'movieCd': '20187427', 'movieNm': '명탐정 코난 : 제로의 집행인', 'audiAcc': '377257'}, '20170670': {'movieCd': '20170670', 'movieNm': '목격자', 'audiAcc': '2453638'}, '20183584': {'movieCd': '20183584', 'movieNm': '메가로돈', 'audiAcc': '515536'}, '20187641': {'movieCd': '20187641', 'movieNm': '극장판 도라에몽: 진구의 보물섬', 'audiAcc': '138640'}, '20153446': {'movieCd': '20153446', 'movieNm': '너의 결혼식', 'audiAcc': '1949364'}, '20187647': {'movieCd': '20187647', 'movieNm': '나를 차버린 스파이', 'audiAcc': '235053'}, '20187657': {'movieCd': '20187657', 'movieNm': '마일22', 'audiAcc': '51350'}, '20185046': {'movieCd': '20185046', 'movieNm': '서치', 'audiAcc': '570893'}, '20177537': {'movieCd': '20177537', 'movieNm': '상류사회', 'audiAcc': '508651'}, '20139221': {'movieCd': '20139221', 'movieNm': '그래비티', 'audiAcc': '3262924'}}\n"
     ]
    }
   ],
   "source": [
    "# 5. 날짜 늘리기 \n",
    "import datetime\n",
    "import requests\n",
    "\n",
    "movie_dict = {}\n",
    "for i in range(5):\n",
    "    targetDt = datetime.datetime(2018, 8, 4) + datetime.timedelta(weeks=i)\n",
    "    targetDt = targetDt.strftime('%Y%m%d')\n",
    "    url = 'http://www.kobis.or.kr/kobisopenapi/webservice/rest/boxoffice/searchWeeklyBoxOfficeList.json'\n",
    "    key = '1ecb949bfcb4945245868b107581120a'\n",
    "    movie_url = f'{url}?key={key}&targetDt={targetDt}&weekGb=0'\n",
    "    \n",
    "    res = requests.get(movie_url).json()\n",
    "    \n",
    "    box_office_list = res['boxOfficeResult']['weeklyBoxOfficeList']\n",
    "    for movie in box_office_list:\n",
    "        movie_dict[movie['movieCd']] = {\n",
    "            'movieCd': movie['movieCd'],\n",
    "            'movieNm': movie['movieNm'],\n",
    "            'audiAcc': movie['audiAcc']\n",
    "        }\n",
    "print(movie_dict) \n",
    "#     res = requests.get(movie_url).json()"
   ]
  },
  {
   "cell_type": "code",
   "execution_count": 25,
   "metadata": {},
   "outputs": [],
   "source": [
    "import csv\n",
    "with open('boxoffice.csv', 'w', newline='', encoding='utf-8') as f:\n",
    "    fieldnames = ('movieCd', 'movieNm', 'audiAcc')\n",
    "    csv_writer = csv.DictWriter(f, fieldnames=fieldnames)\n",
    "    csv_writer.writeheader()\n",
    "    for movie in movie_dict.values():\n",
    "        csv_writer.writerow(movie)"
   ]
  },
  {
   "cell_type": "code",
   "execution_count": null,
   "metadata": {},
   "outputs": [],
   "source": []
  },
  {
   "cell_type": "code",
   "execution_count": null,
   "metadata": {},
   "outputs": [],
   "source": []
  }
 ],
 "metadata": {
  "kernelspec": {
   "display_name": "Python 3",
   "language": "python",
   "name": "python3"
  },
  "language_info": {
   "codemirror_mode": {
    "name": "ipython",
    "version": 3
   },
   "file_extension": ".py",
   "mimetype": "text/x-python",
   "name": "python",
   "nbconvert_exporter": "python",
   "pygments_lexer": "ipython3",
   "version": "3.7.3"
  }
 },
 "nbformat": 4,
 "nbformat_minor": 2
}
